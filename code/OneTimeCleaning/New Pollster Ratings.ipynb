{
 "cells": [
  {
   "cell_type": "code",
   "execution_count": 1,
   "metadata": {},
   "outputs": [],
   "source": [
    "import pandas as pd\n",
    "import numpy as np\n",
    "from sklearn.preprocessing import StandardScaler, OneHotEncoder\n",
    "from sklearn.compose import ColumnTransformer\n",
    "from sklearn.pipeline import make_pipeline\n",
    "from sklearn.model_selection import train_test_split, KFold, RandomizedSearchCV\n",
    "from sklearn.metrics import mean_absolute_error\n",
    "import xgboost\n",
    "from scipy.stats import loguniform, randint, t\n",
    "\n",
    "\n",
    "pd.options.mode.chained_assignment = None "
   ]
  },
  {
   "cell_type": "code",
   "execution_count": 71,
   "metadata": {},
   "outputs": [],
   "source": [
    "polls_for_rating = pd.read_csv('../../cleaned_data/PollsforRating.csv')\n",
    "\n",
    "def pollster_has_enough_previous_polls(pollster_rating_id, year, numpolls_df):\n",
    "    return numpolls_df.loc[numpolls_df['pollster_rating_id'] == pollster_rating_id]\n",
    "    pass\n",
    "    \n",
    "\n",
    "#Only selects pollsters that have conducted more than 30 polls \n",
    "#Later we want to consider whether it's a good idea to only look at pollsters that have >=30 polls by the time we're running the model?\n",
    "#Wait... yeah we absolutely fucking should do that...\n",
    "valid_pollster_ids = (polls_for_rating.\n",
    " groupby(by = ['pollster_rating_id']).\n",
    " agg(len)\n",
    " #reset_index()\n",
    " #query(\"state >= 30\").\n",
    " #index.\n",
    " #to_numpy()\n",
    ")\n",
    "\n",
    "#polls_for_rating['use_pollster_id'] = polls_for_rating['pollster_rating_id'].apply(lambda x: x in valid_pollster_ids)"
   ]
  },
  {
   "cell_type": "code",
   "execution_count": 69,
   "metadata": {},
   "outputs": [
    {
     "data": {
      "text/plain": [
       "535"
      ]
     },
     "execution_count": 69,
     "metadata": {},
     "output_type": "execute_result"
    }
   ],
   "source": [
    "#pollster_has_enough_previous_polls(3.0, 2024, valid_pollster_ids)\n",
    "len(valid_pollster_ids)"
   ]
  },
  {
   "cell_type": "code",
   "execution_count": 74,
   "metadata": {},
   "outputs": [
    {
     "data": {
      "text/plain": [
       "0         True\n",
       "1         True\n",
       "2         True\n",
       "3         True\n",
       "4         True\n",
       "         ...  \n",
       "16333    False\n",
       "16334    False\n",
       "16335    False\n",
       "16336    False\n",
       "16337    False\n",
       "Name: year, Length: 16338, dtype: bool"
      ]
     },
     "execution_count": 74,
     "metadata": {},
     "output_type": "execute_result"
    }
   ],
   "source": [
    "polls_for_rating['year'].isna()"
   ]
  }
 ],
 "metadata": {
  "kernelspec": {
   "display_name": "data1030",
   "language": "python",
   "name": "python3"
  },
  "language_info": {
   "codemirror_mode": {
    "name": "ipython",
    "version": 3
   },
   "file_extension": ".py",
   "mimetype": "text/x-python",
   "name": "python",
   "nbconvert_exporter": "python",
   "pygments_lexer": "ipython3",
   "version": "3.11.4"
  }
 },
 "nbformat": 4,
 "nbformat_minor": 2
}
