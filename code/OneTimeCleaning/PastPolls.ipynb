{
 "cells": [
  {
   "cell_type": "code",
   "execution_count": 78,
   "metadata": {},
   "outputs": [],
   "source": [
    "import pandas as pd\n",
    "import numpy as np\n",
    "from dateutil import parser\n",
    "\n",
    "pd.options.mode.chained_assignment = None \n",
    "\n",
    "days_to_rate = 21\n",
    "\n",
    "# Function to handle parsing and errors\n",
    "def safe_parse(date):\n",
    "    \"Handles parsing dates when some may be NA\"\n",
    "    try:\n",
    "        return parser.parse(str(date))\n",
    "    except Exception as e:\n",
    "        # Handle the exception or return a default value\n",
    "        return pd.NaT  # pd.NaT represents a missing value for datetime types"
   ]
  },
  {
   "cell_type": "markdown",
   "metadata": {},
   "source": [
    "**Dictionary that takes a state abbreviation to its full name**"
   ]
  },
  {
   "cell_type": "code",
   "execution_count": 66,
   "metadata": {},
   "outputs": [],
   "source": [
    "states = {\n",
    "        'AK': 'Alaska',\n",
    "        'AL': 'Alabama',\n",
    "        'AR': 'Arkansas',\n",
    "        'AZ': 'Arizona',\n",
    "        'CA': 'California',\n",
    "        'CO': 'Colorado',\n",
    "        'CT': 'Connecticut',\n",
    "        'DC': 'District of Columbia',\n",
    "        'DE': 'Delaware',\n",
    "        'FL': 'Florida',\n",
    "        'GA': 'Georgia',\n",
    "        'HI': 'Hawaii',\n",
    "        'IA': 'Iowa',\n",
    "        'ID': 'Idaho',\n",
    "        'IL': 'Illinois',\n",
    "        'IN': 'Indiana',\n",
    "        'KS': 'Kansas',\n",
    "        'KY': 'Kentucky',\n",
    "        'LA': 'Louisiana',\n",
    "        'MA': 'Massachusetts',\n",
    "        'MD': 'Maryland',\n",
    "        'ME': 'Maine',\n",
    "        'MI': 'Michigan',\n",
    "        'MN': 'Minnesota',\n",
    "        'MO': 'Missouri',\n",
    "        'MS': 'Mississippi',\n",
    "        'MT': 'Montana',\n",
    "        'NA': 'National',\n",
    "        'NC': 'North Carolina',\n",
    "        'ND': 'North Dakota',\n",
    "        'NE': 'Nebraska',\n",
    "        'NH': 'New Hampshire',\n",
    "        'NJ': 'New Jersey',\n",
    "        'NM': 'New Mexico',\n",
    "        'NV': 'Nevada',\n",
    "        'NY': 'New York',\n",
    "        'OH': 'Ohio',\n",
    "        'OK': 'Oklahoma',\n",
    "        'OR': 'Oregon',\n",
    "        'PA': 'Pennsylvania',\n",
    "        'RI': 'Rhode Island',\n",
    "        'SC': 'South Carolina',\n",
    "        'SD': 'South Dakota',\n",
    "        'TN': 'Tennessee',\n",
    "        'TX': 'Texas',\n",
    "        'UT': 'Utah',\n",
    "        'VA': 'Virginia',\n",
    "        'VT': 'Vermont',\n",
    "        'WA': 'Washington',\n",
    "        'WI': 'Wisconsin',\n",
    "        'WV': 'West Virginia',\n",
    "        'WY': 'Wyoming'\n",
    "}"
   ]
  },
  {
   "cell_type": "markdown",
   "metadata": {},
   "source": [
    "**Combining data from 2022 polls and results**"
   ]
  },
  {
   "cell_type": "code",
   "execution_count": 67,
   "metadata": {},
   "outputs": [
    {
     "name": "stderr",
     "output_type": "stream",
     "text": [
      "Columns (15,16,22,24,27) have mixed types. Specify dtype option on import or set low_memory=False.\n"
     ]
    }
   ],
   "source": [
    "#Past results, needed for getting error/bias\n",
    "results_2022_house = (\n",
    "    pd.read_csv(\"../../cleaned_data/House Historical.csv\")\n",
    "    .assign(office_type = 'U.S. House', \n",
    "            district = lambda x: np.where(x['district'] == 0, 1, x['district']))\n",
    "    .rename({'state_po': 'state'}, axis = 'columns')\n",
    ")\n",
    "\n",
    "#Senate, 2022 Gubernatorial data not ready yet :( will be soon!\n",
    "\n",
    "results_2022 = (\n",
    "    results_2022_house\n",
    "    .query('year == 2022')\n",
    "    .filter(['state', 'district', 'office_type', 'margin'])\n",
    "    .assign(state = lambda x: x['state'].map(states))\n",
    ")\n",
    "\n",
    "polls_2022 = pd.concat([\n",
    "    pd.read_csv(\"https://projects.fivethirtyeight.com/polls-page/data/president_polls_historical.csv\"), \n",
    "    pd.read_csv(\"https://projects.fivethirtyeight.com/polls-page/data/senate_polls_historical.csv\"), \n",
    "    pd.read_csv(\"https://projects.fivethirtyeight.com/polls-page/data/house_polls_historical.csv\"),\n",
    "    pd.read_csv(\"https://projects.fivethirtyeight.com/polls-page/data/governor_polls_historical.csv\")\n",
    "])\n",
    "\n",
    "#Conducting necessary cleaning on 2022 polls\n",
    "polls_2022.columns = polls_2022.columns.str.strip()\n",
    "polls_2022_filtered = (\n",
    "    polls_2022\n",
    "    .assign(\n",
    "        election_date=lambda x: x['election_date'].apply(safe_parse),\n",
    "        end_date=lambda x: x['end_date'].apply(safe_parse),\n",
    "        days_before_election=lambda x: (x['election_date'] - x['end_date']).dt.days\n",
    "    )\n",
    "    .query('not @pd.isna(pollster_rating_id) & cycle > 2020 &  (not ranked_choice_reallocated) & days_before_election < @days_to_rate')\n",
    "    .assign(party=lambda x: np.where(x['party'].isin(['DEM', 'REP']), x['party'], 'IND'),\n",
    "            partisan=lambda x: np.where(x['partisan'].isna(), 'NO', x['partisan']))\n",
    "    .groupby(by=['poll_id', 'pollster_rating_id', 'pollster', 'question_id', 'methodology', 'state', 'sample_size', 'office_type', 'population', 'partisan',\n",
    "             'seat_number', 'days_before_election', 'party'], as_index=False, dropna=False)\n",
    "    .agg(party_sum=pd.NamedAgg(column ='pct', aggfunc='sum'))\n",
    "    .pivot_table(index=['poll_id', 'pollster_rating_id', 'pollster', 'question_id', 'methodology', 'state', 'sample_size', 'office_type', 'population', 'partisan',\n",
    "             'seat_number', 'days_before_election'], columns='party', values='party_sum')\n",
    "    .reset_index()\n",
    "    .rename({'seat_number': 'district'}, axis = 'columns')\n",
    "    .query('not @pd.isna(DEM) & not @pd.isna(REP)')\n",
    ")\n",
    "\n",
    "polls_2022_completed = (\n",
    "    pd.merge(left=results_2022, right=polls_2022_filtered, how='right', on=['state', 'district', 'office_type'])\n",
    "    .query('not @pd.isna(margin)')\n",
    "    .assign(pred_margin = lambda x: x['DEM'] - x['REP'],\n",
    "            bias = lambda x: (x['pred_margin']) - x['margin'],\n",
    "            error = lambda x: np.abs(x['bias']),\n",
    "            office_type = lambda x: x['office_type'].str.replace(\"U.S. \", \"\"), \n",
    "            year = 2022)\n",
    "    .rename({\"margin\": \"actual_margin\"}, axis='columns')\n",
    "    .filter(['year', 'state', 'district', 'office_type', 'poll_id', 'pollster_rating_id', 'pollster', 'question_id', 'methodology',\n",
    "            'sample_size', 'population', 'partisan', 'days_before_election', 'pred_margin', 'actual_margin', 'bias', 'error'])\n",
    "\n",
    ")"
   ]
  },
  {
   "cell_type": "markdown",
   "metadata": {},
   "source": [
    "**Combining 2022 Polls with Polls from Earlier Years**"
   ]
  },
  {
   "cell_type": "code",
   "execution_count": null,
   "metadata": {},
   "outputs": [],
   "source": [
    "#Converting between names for office types\n",
    "office_type_dict = {\n",
    "    'House-G': 'House', \n",
    "    'Sen-G': 'Senate',\n",
    "    'Gov-G': 'Governor'\n",
    "}\n",
    "\n",
    "#Cleaning polls from before 2022\n",
    "prior_polls = (\n",
    "    pd.read_csv(\"https://github.com/fivethirtyeight/data/raw/master/pollster-ratings/raw-polls.csv\")\n",
    "    .assign(\n",
    "        electiondate=lambda x: x['electiondate'].apply(safe_parse),\n",
    "        polldate=lambda x: x['polldate'].apply(safe_parse),\n",
    "        days_before_election=lambda x: (x['electiondate'] - x['polldate']).dt.days, \n",
    "        pred_margin = lambda x: x['cand1_pct'] - x['cand2_pct'],\n",
    "        actual_margin = lambda x: x['cand1_actual'] - x['cand2_actual'],\n",
    "        bias = lambda x: x['pred_margin'] - x['actual_margin'], \n",
    "        error = lambda x: np.abs(x['bias']), \n",
    "        state = lambda x: x['location'].str.split(\"-\", expand=True)[0], \n",
    "        district = lambda x: x['location'].str.split(\"-\", expand=True)[1], \n",
    "        population = 'lv' #538 says all these polls were LV\n",
    "    )\n",
    "    .query('state != \"US\" & cand1_party == \"DEM\" & cand2_party == \"REP\"') # only looking at DvR polls\n",
    "    .assign(district = lambda x: x['district'].fillna(0), \n",
    "            state = lambda x: x['state'].map(states), \n",
    "            office_type = lambda x: x['type_simple'].map(office_type_dict), \n",
    "            partisan = lambda x: x['partisan'].fillna(\"NO\"))\n",
    "    .rename({'samplesize': 'sample_size'}, axis='columns')\n",
    "    .filter(['year', 'state', 'district', 'office_type', 'poll_id', 'pollster_rating_id', 'pollster', 'question_id', 'methodology',\n",
    "             'sample_size', 'population', 'partisan', 'days_before_election', 'pred_margin', 'actual_margin', 'bias', 'error'])\n",
    ")\n",
    "\n",
    "all_past_polls = pd.concat([prior_polls, polls_2022_completed])\n",
    "all_past_polls['partisan'] = np.where(all_past_polls['partisan'] == \"REP\", \"R\", all_past_polls['partisan'])\n",
    "all_past_polls['partisan'] = np.where(all_past_polls['partisan'] == \"DEM\", \"D\", all_past_polls['partisan'])\n",
    "all_past_polls['partisan'] = np.where((all_past_polls['partisan'] == \"IND\") | (all_past_polls['partisan'] == \"DEM,REP\"), \n",
    "                                      \"NO\", all_past_polls['partisan'])\n",
    "\n",
    "all_past_polls['methodology'].value_counts()"
   ]
  },
  {
   "cell_type": "markdown",
   "metadata": {},
   "source": [
    "**Saving final poll compilation**"
   ]
  },
  {
   "cell_type": "code",
   "execution_count": 77,
   "metadata": {},
   "outputs": [],
   "source": [
    "all_past_polls.to_csv(\"../../cleaned_data/Historical Polls.csv\")"
   ]
  }
 ],
 "metadata": {
  "kernelspec": {
   "display_name": "data1030",
   "language": "python",
   "name": "python3"
  },
  "language_info": {
   "codemirror_mode": {
    "name": "ipython",
    "version": 3
   },
   "file_extension": ".py",
   "mimetype": "text/x-python",
   "name": "python",
   "nbconvert_exporter": "python",
   "pygments_lexer": "ipython3",
   "version": "3.11.4"
  }
 },
 "nbformat": 4,
 "nbformat_minor": 2
}
